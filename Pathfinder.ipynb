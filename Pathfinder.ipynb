{
  "cells": [
    {
      "cell_type": "markdown",
      "metadata": {
        "id": "view-in-github",
        "colab_type": "text"
      },
      "source": [
        "<a href=\"https://colab.research.google.com/github/DilaksanThirugnanaselvam/PathFinder/blob/main/Pathfinder.ipynb\" target=\"_parent\"><img src=\"https://colab.research.google.com/assets/colab-badge.svg\" alt=\"Open In Colab\"/></a>"
      ]
    },
    {
      "cell_type": "code",
      "execution_count": 2,
      "metadata": {
        "colab": {
          "base_uri": "https://localhost:8080/"
        },
        "id": "mpVHfbZK5ECf",
        "outputId": "bef8bbdb-4b4a-482c-968b-f587e1b9a5c3"
      },
      "outputs": [
        {
          "output_type": "stream",
          "name": "stdout",
          "text": [
            "Drive already mounted at /content/drive; to attempt to forcibly remount, call drive.mount(\"/content/drive\", force_remount=True).\n"
          ]
        }
      ],
      "source": [
        "from google.colab import drive\n",
        "drive.mount('/content/drive')"
      ]
    },
    {
      "cell_type": "code",
      "execution_count": null,
      "metadata": {
        "colab": {
          "base_uri": "https://localhost:8080/"
        },
        "id": "8lfPDClM5gBk",
        "outputId": "f6e9c9df-5382-45df-e082-0c1233069537"
      },
      "outputs": [
        {
          "output_type": "stream",
          "name": "stdout",
          "text": [
            "Collecting openai\n",
            "  Downloading openai-1.51.2-py3-none-any.whl.metadata (24 kB)\n",
            "Requirement already satisfied: anyio<5,>=3.5.0 in /usr/local/lib/python3.10/dist-packages (from openai) (3.7.1)\n",
            "Requirement already satisfied: distro<2,>=1.7.0 in /usr/lib/python3/dist-packages (from openai) (1.7.0)\n",
            "Collecting httpx<1,>=0.23.0 (from openai)\n",
            "  Downloading httpx-0.27.2-py3-none-any.whl.metadata (7.1 kB)\n",
            "Collecting jiter<1,>=0.4.0 (from openai)\n",
            "  Downloading jiter-0.6.1-cp310-cp310-manylinux_2_17_x86_64.manylinux2014_x86_64.whl.metadata (5.2 kB)\n",
            "Requirement already satisfied: pydantic<3,>=1.9.0 in /usr/local/lib/python3.10/dist-packages (from openai) (2.9.2)\n",
            "Requirement already satisfied: sniffio in /usr/local/lib/python3.10/dist-packages (from openai) (1.3.1)\n",
            "Requirement already satisfied: tqdm>4 in /usr/local/lib/python3.10/dist-packages (from openai) (4.66.5)\n",
            "Requirement already satisfied: typing-extensions<5,>=4.11 in /usr/local/lib/python3.10/dist-packages (from openai) (4.12.2)\n",
            "Requirement already satisfied: idna>=2.8 in /usr/local/lib/python3.10/dist-packages (from anyio<5,>=3.5.0->openai) (3.10)\n",
            "Requirement already satisfied: exceptiongroup in /usr/local/lib/python3.10/dist-packages (from anyio<5,>=3.5.0->openai) (1.2.2)\n",
            "Requirement already satisfied: certifi in /usr/local/lib/python3.10/dist-packages (from httpx<1,>=0.23.0->openai) (2024.8.30)\n",
            "Collecting httpcore==1.* (from httpx<1,>=0.23.0->openai)\n",
            "  Downloading httpcore-1.0.6-py3-none-any.whl.metadata (21 kB)\n",
            "Collecting h11<0.15,>=0.13 (from httpcore==1.*->httpx<1,>=0.23.0->openai)\n",
            "  Downloading h11-0.14.0-py3-none-any.whl.metadata (8.2 kB)\n",
            "Requirement already satisfied: annotated-types>=0.6.0 in /usr/local/lib/python3.10/dist-packages (from pydantic<3,>=1.9.0->openai) (0.7.0)\n",
            "Requirement already satisfied: pydantic-core==2.23.4 in /usr/local/lib/python3.10/dist-packages (from pydantic<3,>=1.9.0->openai) (2.23.4)\n",
            "Downloading openai-1.51.2-py3-none-any.whl (383 kB)\n",
            "\u001b[2K   \u001b[90m━━━━━━━━━━━━━━━━━━━━━━━━━━━━━━━━━━━━━━━━\u001b[0m \u001b[32m383.7/383.7 kB\u001b[0m \u001b[31m8.3 MB/s\u001b[0m eta \u001b[36m0:00:00\u001b[0m\n",
            "\u001b[?25hDownloading httpx-0.27.2-py3-none-any.whl (76 kB)\n",
            "\u001b[2K   \u001b[90m━━━━━━━━━━━━━━━━━━━━━━━━━━━━━━━━━━━━━━━━\u001b[0m \u001b[32m76.4/76.4 kB\u001b[0m \u001b[31m8.1 MB/s\u001b[0m eta \u001b[36m0:00:00\u001b[0m\n",
            "\u001b[?25hDownloading httpcore-1.0.6-py3-none-any.whl (78 kB)\n",
            "\u001b[2K   \u001b[90m━━━━━━━━━━━━━━━━━━━━━━━━━━━━━━━━━━━━━━━━\u001b[0m \u001b[32m78.0/78.0 kB\u001b[0m \u001b[31m7.9 MB/s\u001b[0m eta \u001b[36m0:00:00\u001b[0m\n",
            "\u001b[?25hDownloading jiter-0.6.1-cp310-cp310-manylinux_2_17_x86_64.manylinux2014_x86_64.whl (325 kB)\n",
            "\u001b[2K   \u001b[90m━━━━━━━━━━━━━━━━━━━━━━━━━━━━━━━━━━━━━━━━\u001b[0m \u001b[32m325.2/325.2 kB\u001b[0m \u001b[31m29.4 MB/s\u001b[0m eta \u001b[36m0:00:00\u001b[0m\n",
            "\u001b[?25hDownloading h11-0.14.0-py3-none-any.whl (58 kB)\n",
            "\u001b[2K   \u001b[90m━━━━━━━━━━━━━━━━━━━━━━━━━━━━━━━━━━━━━━━━\u001b[0m \u001b[32m58.3/58.3 kB\u001b[0m \u001b[31m6.0 MB/s\u001b[0m eta \u001b[36m0:00:00\u001b[0m\n",
            "\u001b[?25hInstalling collected packages: jiter, h11, httpcore, httpx, openai\n",
            "Successfully installed h11-0.14.0 httpcore-1.0.6 httpx-0.27.2 jiter-0.6.1 openai-1.51.2\n"
          ]
        }
      ],
      "source": [
        "!pip install openai"
      ]
    },
    {
      "cell_type": "code",
      "execution_count": null,
      "metadata": {
        "id": "bELT3qj55bqh"
      },
      "outputs": [],
      "source": [
        "import os\n",
        "import openai\n",
        "from openai import OpenAI\n",
        "\n",
        "# Set API key as an environment variable\n",
        "os.environ['OPENAI_API_KEY'] = \"sk-qelXokcQhxfYSarqHFho2rWqX3R3GuiX6POK96aeOzT3BlbkFJEOM5Q_y7xjViMb86oiTLtRQ6qwbdSf0fGrl8pgIKIA\"\n",
        "\n",
        "# Retrieve and set the API key in OpenAI library\n",
        "client = OpenAI(api_key=os.getenv(\"sk-qelXokcQhxfYSarqHFho2rWqX3R3GuiX6POK96aeOzT3BlbkFJEOM5Q_y7xjViMb86oiTLtRQ6qwbdSf0fGrl8pgIKIA\")) # Use the correct environment variable name"
      ]
    },
    {
      "cell_type": "code",
      "execution_count": null,
      "metadata": {
        "id": "Lzlrpz8t5qHn"
      },
      "outputs": [],
      "source": [
        "import openai\n",
        "from openai import OpenAI\n",
        "client = OpenAI(api_key='sk-qelXokcQhxfYSarqHFho2rWqX3R3GuiX6POK96aeOzT3BlbkFJEOM5Q_y7xjViMb86oiTLtRQ6qwbdSf0fGrl8pgIKIA')\n",
        "api_key=os.getenv(\"sk-qelXokcQhxfYSarqHFho2rWqX3R3GuiX6POK96aeOzT3BlbkFJEOM5Q_y7xjViMb86oiTLtRQ6qwbdSf0fGrl8pgIKIA\")"
      ]
    },
    {
      "cell_type": "code",
      "execution_count": null,
      "metadata": {
        "id": "uFr7K-bd5sU4"
      },
      "outputs": [],
      "source": [
        "import openai\n",
        "\n",
        "# Point to the file where the API key is stored\n",
        "openai.api_key_path = '/content/drive/MyDrive/student/key1.txt'\n",
        "\n"
      ]
    },
    {
      "cell_type": "code",
      "execution_count": null,
      "metadata": {
        "colab": {
          "base_uri": "https://localhost:8080/"
        },
        "id": "Gd59e9CT5tbE",
        "outputId": "a868d402-270f-41f6-bff4-2b0995aaf73d"
      },
      "outputs": [
        {
          "output_type": "stream",
          "name": "stdout",
          "text": [
            "Requirement already satisfied: openai in /usr/local/lib/python3.10/dist-packages (0.28.0)\n",
            "Collecting openai\n",
            "  Using cached openai-1.51.2-py3-none-any.whl.metadata (24 kB)\n",
            "Requirement already satisfied: anyio<5,>=3.5.0 in /usr/local/lib/python3.10/dist-packages (from openai) (3.7.1)\n",
            "Requirement already satisfied: distro<2,>=1.7.0 in /usr/lib/python3/dist-packages (from openai) (1.7.0)\n",
            "Requirement already satisfied: httpx<1,>=0.23.0 in /usr/local/lib/python3.10/dist-packages (from openai) (0.27.2)\n",
            "Requirement already satisfied: jiter<1,>=0.4.0 in /usr/local/lib/python3.10/dist-packages (from openai) (0.6.1)\n",
            "Requirement already satisfied: pydantic<3,>=1.9.0 in /usr/local/lib/python3.10/dist-packages (from openai) (2.9.2)\n",
            "Requirement already satisfied: sniffio in /usr/local/lib/python3.10/dist-packages (from openai) (1.3.1)\n",
            "Requirement already satisfied: tqdm>4 in /usr/local/lib/python3.10/dist-packages (from openai) (4.66.5)\n",
            "Requirement already satisfied: typing-extensions<5,>=4.11 in /usr/local/lib/python3.10/dist-packages (from openai) (4.12.2)\n",
            "Requirement already satisfied: idna>=2.8 in /usr/local/lib/python3.10/dist-packages (from anyio<5,>=3.5.0->openai) (3.10)\n",
            "Requirement already satisfied: exceptiongroup in /usr/local/lib/python3.10/dist-packages (from anyio<5,>=3.5.0->openai) (1.2.2)\n",
            "Requirement already satisfied: certifi in /usr/local/lib/python3.10/dist-packages (from httpx<1,>=0.23.0->openai) (2024.8.30)\n",
            "Requirement already satisfied: httpcore==1.* in /usr/local/lib/python3.10/dist-packages (from httpx<1,>=0.23.0->openai) (1.0.6)\n",
            "Requirement already satisfied: h11<0.15,>=0.13 in /usr/local/lib/python3.10/dist-packages (from httpcore==1.*->httpx<1,>=0.23.0->openai) (0.14.0)\n",
            "Requirement already satisfied: annotated-types>=0.6.0 in /usr/local/lib/python3.10/dist-packages (from pydantic<3,>=1.9.0->openai) (0.7.0)\n",
            "Requirement already satisfied: pydantic-core==2.23.4 in /usr/local/lib/python3.10/dist-packages (from pydantic<3,>=1.9.0->openai) (2.23.4)\n",
            "Using cached openai-1.51.2-py3-none-any.whl (383 kB)\n",
            "Installing collected packages: openai\n",
            "  Attempting uninstall: openai\n",
            "    Found existing installation: openai 0.28.0\n",
            "    Uninstalling openai-0.28.0:\n",
            "      Successfully uninstalled openai-0.28.0\n",
            "Successfully installed openai-1.51.2\n",
            "Collecting openai==0.28\n",
            "  Using cached openai-0.28.0-py3-none-any.whl.metadata (13 kB)\n",
            "Requirement already satisfied: requests>=2.20 in /usr/local/lib/python3.10/dist-packages (from openai==0.28) (2.32.3)\n",
            "Requirement already satisfied: tqdm in /usr/local/lib/python3.10/dist-packages (from openai==0.28) (4.66.5)\n",
            "Requirement already satisfied: aiohttp in /usr/local/lib/python3.10/dist-packages (from openai==0.28) (3.10.10)\n",
            "Requirement already satisfied: charset-normalizer<4,>=2 in /usr/local/lib/python3.10/dist-packages (from requests>=2.20->openai==0.28) (3.4.0)\n",
            "Requirement already satisfied: idna<4,>=2.5 in /usr/local/lib/python3.10/dist-packages (from requests>=2.20->openai==0.28) (3.10)\n",
            "Requirement already satisfied: urllib3<3,>=1.21.1 in /usr/local/lib/python3.10/dist-packages (from requests>=2.20->openai==0.28) (2.2.3)\n",
            "Requirement already satisfied: certifi>=2017.4.17 in /usr/local/lib/python3.10/dist-packages (from requests>=2.20->openai==0.28) (2024.8.30)\n",
            "Requirement already satisfied: aiohappyeyeballs>=2.3.0 in /usr/local/lib/python3.10/dist-packages (from aiohttp->openai==0.28) (2.4.3)\n",
            "Requirement already satisfied: aiosignal>=1.1.2 in /usr/local/lib/python3.10/dist-packages (from aiohttp->openai==0.28) (1.3.1)\n",
            "Requirement already satisfied: attrs>=17.3.0 in /usr/local/lib/python3.10/dist-packages (from aiohttp->openai==0.28) (24.2.0)\n",
            "Requirement already satisfied: frozenlist>=1.1.1 in /usr/local/lib/python3.10/dist-packages (from aiohttp->openai==0.28) (1.4.1)\n",
            "Requirement already satisfied: multidict<7.0,>=4.5 in /usr/local/lib/python3.10/dist-packages (from aiohttp->openai==0.28) (6.1.0)\n",
            "Requirement already satisfied: yarl<2.0,>=1.12.0 in /usr/local/lib/python3.10/dist-packages (from aiohttp->openai==0.28) (1.14.0)\n",
            "Requirement already satisfied: async-timeout<5.0,>=4.0 in /usr/local/lib/python3.10/dist-packages (from aiohttp->openai==0.28) (4.0.3)\n",
            "Requirement already satisfied: typing-extensions>=4.1.0 in /usr/local/lib/python3.10/dist-packages (from multidict<7.0,>=4.5->aiohttp->openai==0.28) (4.12.2)\n",
            "Requirement already satisfied: propcache>=0.2.0 in /usr/local/lib/python3.10/dist-packages (from yarl<2.0,>=1.12.0->aiohttp->openai==0.28) (0.2.0)\n",
            "Using cached openai-0.28.0-py3-none-any.whl (76 kB)\n",
            "Installing collected packages: openai\n",
            "  Attempting uninstall: openai\n",
            "    Found existing installation: openai 1.51.2\n",
            "    Uninstalling openai-1.51.2:\n",
            "      Successfully uninstalled openai-1.51.2\n",
            "Successfully installed openai-0.28.0\n"
          ]
        }
      ],
      "source": [
        "!pip install --upgrade openai\n",
        "!pip install openai==0.28\n"
      ]
    },
    {
      "cell_type": "code",
      "execution_count": null,
      "metadata": {
        "colab": {
          "base_uri": "https://localhost:8080/"
        },
        "id": "GoJ43Fh556P1",
        "outputId": "98687067-06a7-4ef8-b6e9-5dc0b33b86c8"
      },
      "outputs": [
        {
          "output_type": "stream",
          "name": "stdout",
          "text": [
            "1. Software Engineer: This involves building and managing software applications, websites, and systems. \n",
            "\n",
            "2. Data Scientist: Harnessing the mathematical and statistical side of programming which involves devising models and algorithms to mine the data, find patterns and predict trends. \n",
            "\n",
            "3. Website Developer: Using programming skills to plan and build websites' layout, design and functionalities. \n",
            "\n",
            "4. Mobile Application Developer: Creating applications for platforms like iOS and Android.\n",
            "\n",
            "5. Systems Analyst: Using programming and problem-solving skills to study the organization's current computer systems and make recommendations for improvements.\n",
            "\n",
            "6. Game Designer: Design and program computer and video games.\n",
            "\n",
            "7. Cybersecurity Analyst: Implementing strong security measures and coding to prevent cyber attacks.\n",
            "\n",
            "8. Business Intelligence Analyst: Applying programming skills to design tools to identify business insights through data analysis.\n",
            "\n",
            "9. Artificial Intelligence Developer: Programming AI models and algorithms. \n",
            "\n",
            "10. Database Administrator: Designing and managing database systems.\n",
            "\n",
            "11. Information Systems Manager: Overseeing an organization's computer-related activities.\n",
            "\n",
            "12. Network Architect: Designing and building data communication networks.\n",
            "\n",
            "13. IT Project Manager: Using problem-solving skills to lead and direct the work of other IT professionals.\n",
            "\n",
            "14. Quality Assurance Analyst: Testing and debugging systems to ensure smooth operations.\n",
            "\n",
            "15. User Experience Designer: Programming interfaces that provide optimal user experience. \n",
            "\n",
            "Remember, the right career path not only depends on one's skills but also the future goals, interests, style of work, and lifestyle one wants to have.\n"
          ]
        }
      ],
      "source": [
        "import openai\n",
        "\n",
        "# Open the file and read the API key\n",
        "with open('/content/drive/MyDrive/student/key1.txt', 'r') as file:\n",
        "    openai.api_key = file.read().strip()  # `.strip()` is used to remove any trailing newlines or spaces\n",
        "\n",
        "# Now, you can use the OpenAI API as usual\n",
        "response = openai.ChatCompletion.create(\n",
        "    model=\"gpt-4\",\n",
        "    messages=[\n",
        "        {\"role\": \"system\", \"content\": \"You are a career counselor for students.\"},\n",
        "        {\"role\": \"user\", \"content\": \"Suggest career paths for someone skilled in programming and problem-solving.\"}\n",
        "    ]\n",
        ")\n",
        "\n",
        "print(response.choices[0].message['content'])\n"
      ]
    },
    {
      "cell_type": "code",
      "execution_count": null,
      "metadata": {
        "colab": {
          "base_uri": "https://localhost:8080/"
        },
        "id": "NwgE_ROm5s68",
        "outputId": "27042ece-914f-441a-d4d3-8b00a02955c0"
      },
      "outputs": [
        {
          "output_type": "stream",
          "name": "stdout",
          "text": [
            "As a Mechanical or Civil Engineer, the student can look forward to a thriving career in a range of industries such as construction, automotive, aerospace, robotics, and renewable energy. Given the student's interest in renewable energy and robotics, they might also consider specializing in these areas. \n",
            "\n",
            "Career Path:\n",
            "\n",
            "1. Mechanical Engineer: They can work in automotive, aerospace, and manufacturing industries designing and developing mechanical systems or processes. Job roles might include Design Engineer, Project Engineer, or Quality Assurance Engineer.\n",
            "\n",
            "2. Civil Engineer: They can work in the construction and infrastructure industry, involved in the planning, design, and management of construction projects. Job roles might include Structural Engineer, Site Engineer, or Project Manager.\n",
            "\n",
            "3. Specialization in Renewable Energy: This could lead to roles such as Renewable Energy Engineer or Consultant, working on projects related to wind energy, solar power, or bioenergy.\n",
            "\n",
            "4. Specialization in Robotics: This could lead to roles in robotics engineering, working on the design, construction, and operation of robots and robotic systems.\n",
            "\n",
            "Universities/Institutions:\n",
            "\n",
            "USA:\n",
            "1. Massachusetts Institute of Technology (MIT) \n",
            "2. Stanford University\n",
            "3. University of California--Berkeley\n",
            "\n",
            "Germany:\n",
            "1. Technical University of Munich (TUM)\n",
            "2. RWTH Aachen University\n",
            "3. Karlsruhe Institute of Technology (KIT)\n",
            "\n",
            "Certifications:\n",
            "\n",
            "1. For Mechanical Engineering: Certified Mechanical Engineer (CME) offered by the American Society of Mechanical Engineers.\n",
            "2. For Civil Engineering: Professional Engineer licensure (PE), offered by the National Society of Professional Engineers.\n",
            "3. For Renewable Energy: NABCEP PV Installation Professional Certification for solar energy professionals.\n",
            "4. For Robotics: Certified Professional in Robotics & Automation (CPR&A) offered by the Robotics Industries Association.\n",
            "\n",
            "Online Courses: Some online platforms offering courses in these fields include Coursera, edX, and Udemy. \n",
            "\n",
            "Scholarships: Look for engineering scholarships offered by universities themselves or external organizations. For example, the American Society of Civil Engineers offers several scholarships. A compiled list of scholarships for engineering students can be found on the website of the American Society for Engineering Education.\n",
            "\n",
            "Career Advice Platforms: Websites like The Muse, Indeed Career Guide, and LinkedIn can provide valuable advice and resources for engineering careers.\n",
            "\n",
            "Application Guides: Each university will have its own application process, so it's important to check their official websites for accurate information. CommonApp is a universal application used by many US universities, while Uni-Assist manages applications for many universities in Germany.\n",
            "\n",
            "Given the student's Polytechnic pathway, they should consider looking into universities that value practical experience and have strong industry connections. Universities like Stanford, MIT, and TUM are known for their strong ties with industry and emphasis on experiential learning.\n",
            "\n",
            "⚙️ Helpful Links and Resources for Engineering Students:\n",
            "1. [Engineering Scholarships](https://www.engineeringscholarships.sg)\n",
            "2. [Top Engineering Universities](https://www.topuniversities.com/engineering)\n",
            "3. [Engineering Career Advice](https://www.engineeringcareers.sg)\n",
            "4. [Coursera Engineering Courses](https://www.coursera.org/browse/engineering)\n",
            "5. [Online Engineering Certifications](https://www.udemy.com/topic/engineering)\n",
            "\n"
          ]
        }
      ],
      "source": [
        "import openai\n",
        "\n",
        "# Set your OpenAI API key (use environment variables for security)\n",
        "openai.api_key = \"sk-qelXokcQhxfYSarqHFho2rWqX3R3GuiX6POK96aeOzT3BlbkFJEOM5Q_y7xjViMb86oiTLtRQ6qwbdSf0fGrl8pgIKIA\"\n",
        "\n",
        "def generate_career_recommendation(o_level_results, post_secondary_pathway, skills, career_goals, field_of_study, interests=None, preferred_countries=None, max_tokens=1000):\n",
        "    \"\"\"\n",
        "    Generate a career pathway recommendation for students based on their O-Level results, chosen post-secondary education pathway,\n",
        "    skills, career goals, field of study, and additional preferences. It dynamically adjusts helpful resources for the specific field.\n",
        "\n",
        "    Args:\n",
        "        o_level_results (str): O-Level exam results.\n",
        "        post_secondary_pathway (str): Chosen post-secondary education pathway (e.g., Junior College, Polytechnic, ITE).\n",
        "        skills (str): Student's key skills.\n",
        "        career_goals (str): Student's career goals.\n",
        "        field_of_study (str): Field of study or career path (e.g., Arts, STEM, Business, Engineering).\n",
        "        interests (str): Student's areas of interest (optional).\n",
        "        preferred_countries (str): Countries the student prefers to study in (optional).\n",
        "        max_tokens (int): Maximum tokens for the generated recommendation.\n",
        "\n",
        "    Returns:\n",
        "        str: The generated career pathway recommendation.\n",
        "    \"\"\"\n",
        "\n",
        "    # Validate the input\n",
        "    if not o_level_results or not post_secondary_pathway or not skills or not career_goals or not field_of_study:\n",
        "        return \"Please provide complete information: O-Level results, post-secondary pathway, skills, career goals, and field of study.\"\n",
        "\n",
        "    # Create the prompt using the provided details and tailoring for the specific field of study\n",
        "    prompt = (f\"Based on the following academic results and personal skills, suggest suitable career paths, \"\n",
        "              f\"relevant universities or institutions, and required certifications for a student interested in {field_of_study}:\\n\"\n",
        "              f\"O-Level Results: {o_level_results}\\n\"\n",
        "              f\"Post-Secondary Pathway: {post_secondary_pathway}\\n\"\n",
        "              f\"Skills: {skills}\\n\"\n",
        "              f\"Career Goals: {career_goals}\\n\"\n",
        "              f\"Field of Study: {field_of_study}\\n\")\n",
        "\n",
        "    if interests:\n",
        "        prompt += f\"Interests: {interests}\\n\"\n",
        "    if preferred_countries:\n",
        "        prompt += f\"Preferred Countries: {preferred_countries}\\n\"\n",
        "\n",
        "    prompt += (f\"Include relevant details such as industries, potential job roles, and certifications to pursue. \"\n",
        "               f\"Provide tailored advice for the selected pathway (e.g., Junior College, Polytechnic, or ITE), \"\n",
        "               f\"and offer useful links to scholarships, application guides, career advice platforms, and relevant online courses.\\n\")\n",
        "\n",
        "    try:\n",
        "        # Call GPT-4 API to generate career recommendation\n",
        "        response = openai.ChatCompletion.create(\n",
        "            model=\"gpt-4\",  # Use GPT-4 model\n",
        "            messages=[\n",
        "                {\"role\": \"system\", \"content\": f\"You are a career counselor specializing in {field_of_study}.\"},\n",
        "                {\"role\": \"user\", \"content\": prompt}\n",
        "            ],\n",
        "            max_tokens=max_tokens,\n",
        "            temperature=0.7\n",
        "        )\n",
        "\n",
        "        # Extract the generated career recommendation\n",
        "        recommendation = response.choices[0].message['content'].strip()\n",
        "\n",
        "        # Append the appropriate helpful links based on the field of study\n",
        "        helpful_links = generate_helpful_links(field_of_study)\n",
        "\n",
        "        return recommendation + helpful_links\n",
        "\n",
        "    except openai.OpenAIError as e:\n",
        "        # Handle any OpenAI API errors\n",
        "        return f\"An OpenAI error occurred: {e}\"\n",
        "    except Exception as e:\n",
        "        # Handle any other exceptions\n",
        "        return f\"An error occurred: {e}\"\n",
        "\n",
        "def generate_helpful_links(field_of_study):\n",
        "    \"\"\"\n",
        "    Generates a dynamic list of helpful links for different fields of study (e.g., Arts, STEM, Engineering, Business).\n",
        "\n",
        "    Args:\n",
        "        field_of_study (str): The student's field of study (e.g., Arts, STEM, Business, Engineering).\n",
        "\n",
        "    Returns:\n",
        "        str: A string containing helpful links and resources tailored for the field of study.\n",
        "    \"\"\"\n",
        "\n",
        "    # Define field-specific helpful links\n",
        "    if field_of_study.lower() == \"arts\":\n",
        "        links = (\n",
        "            \"\\n\\n🎨 Helpful Links and Resources for Art Students:\\n\"\n",
        "            \"1. [Scholarships for Art & Design](https://www.artsscholarships.sg)\\n\"\n",
        "            \"2. [Art & Design Courses on Coursera](https://www.coursera.org/courses?query=art%20design)\\n\"\n",
        "            \"3. [Art Schools in Singapore](https://www.nafa.edu.sg)\\n\"\n",
        "            \"4. [Creative Career Advice](https://www.creativebloq.com/career)\\n\"\n",
        "            \"5. [Online Art Courses](https://www.skillshare.com/browse/art)\\n\"\n",
        "        )\n",
        "    elif field_of_study.lower() == \"stem\":\n",
        "        links = (\n",
        "            \"\\n\\n🔬 Helpful Links and Resources for STEM Students:\\n\"\n",
        "            \"1. [STEM Scholarships](https://www.stemscholarships.org)\\n\"\n",
        "            \"2. [Coursera STEM Courses](https://www.coursera.org/browse/stem)\\n\"\n",
        "            \"3. [STEM Career Advice](https://www.stemcareers.sg)\\n\"\n",
        "            \"4. [Top STEM Universities](https://www.topuniversities.com/stem)\\n\"\n",
        "            \"5. [AI & Data Science Courses](https://www.coursera.org/specializations/data-science)\\n\"\n",
        "        )\n",
        "    elif field_of_study.lower() == \"business\":\n",
        "        links = (\n",
        "            \"\\n\\n📊 Helpful Links and Resources for Business Students:\\n\"\n",
        "            \"1. [Business Scholarships](https://www.businessscholarships.sg)\\n\"\n",
        "            \"2. [Coursera Business Courses](https://www.coursera.org/browse/business)\\n\"\n",
        "            \"3. [Business Career Advice](https://www.mycareersfuture.sg)\\n\"\n",
        "            \"4. [Top Business Schools](https://www.topuniversities.com/business)\\n\"\n",
        "            \"5. [Finance & Management Courses](https://www.coursera.org/specializations/finance-management)\\n\"\n",
        "        )\n",
        "    elif field_of_study.lower() == \"engineering\":\n",
        "        links = (\n",
        "            \"\\n\\n⚙️ Helpful Links and Resources for Engineering Students:\\n\"\n",
        "            \"1. [Engineering Scholarships](https://www.engineeringscholarships.sg)\\n\"\n",
        "            \"2. [Top Engineering Universities](https://www.topuniversities.com/engineering)\\n\"\n",
        "            \"3. [Engineering Career Advice](https://www.engineeringcareers.sg)\\n\"\n",
        "            \"4. [Coursera Engineering Courses](https://www.coursera.org/browse/engineering)\\n\"\n",
        "            \"5. [Online Engineering Certifications](https://www.udemy.com/topic/engineering)\\n\"\n",
        "        )\n",
        "    else:\n",
        "        links = (\n",
        "            \"\\n\\n📚 General Helpful Links and Resources:\\n\"\n",
        "            \"1. [Scholarships](https://www.scholarships.sg)\\n\"\n",
        "            \"2. [Online Courses](https://www.coursera.org)\\n\"\n",
        "            \"3. [Career Advice Platforms](https://www.mycareersfuture.sg)\\n\"\n",
        "            \"4. [Post-Secondary Application Guides](https://www.moe.gov.sg/apply)\\n\"\n",
        "        )\n",
        "\n",
        "    return links\n",
        "\n",
        "# Example: Predefined values for an engineering-based pathway\n",
        "o_level_results = \"Mathematics: A, Physics: A, Chemistry: B\"\n",
        "post_secondary_pathway = \"Polytechnic\"\n",
        "skills = \"Problem-solving, Critical Thinking, CAD\"\n",
        "career_goals = \"Mechanical Engineer or Civil Engineer\"\n",
        "field_of_study = \"Engineering\"\n",
        "interests = \"Renewable Energy, Robotics\"\n",
        "preferred_countries = \"USA, Germany\"\n",
        "\n",
        "# Generate career recommendation for an engineering-based student\n",
        "career_recommendation = generate_career_recommendation(o_level_results, post_secondary_pathway, skills, career_goals, field_of_study, interests, preferred_countries)\n",
        "print(career_recommendation)\n"
      ]
    },
    {
      "cell_type": "code",
      "execution_count": null,
      "metadata": {
        "colab": {
          "base_uri": "https://localhost:8080/"
        },
        "id": "nNSy__YD6_qB",
        "outputId": "3ce584c4-866e-4127-88fb-bff79e70745d"
      },
      "outputs": [
        {
          "output_type": "stream",
          "name": "stdout",
          "text": [
            "Collecting streamlit\n",
            "  Downloading streamlit-1.39.0-py2.py3-none-any.whl.metadata (8.5 kB)\n",
            "Requirement already satisfied: pillow in /usr/local/lib/python3.10/dist-packages (10.4.0)\n",
            "Requirement already satisfied: openai in /usr/local/lib/python3.10/dist-packages (0.28.0)\n",
            "Requirement already satisfied: altair<6,>=4.0 in /usr/local/lib/python3.10/dist-packages (from streamlit) (4.2.2)\n",
            "Requirement already satisfied: blinker<2,>=1.0.0 in /usr/lib/python3/dist-packages (from streamlit) (1.4)\n",
            "Requirement already satisfied: cachetools<6,>=4.0 in /usr/local/lib/python3.10/dist-packages (from streamlit) (5.5.0)\n",
            "Requirement already satisfied: click<9,>=7.0 in /usr/local/lib/python3.10/dist-packages (from streamlit) (8.1.7)\n",
            "Requirement already satisfied: numpy<3,>=1.20 in /usr/local/lib/python3.10/dist-packages (from streamlit) (1.26.4)\n",
            "Requirement already satisfied: packaging<25,>=20 in /usr/local/lib/python3.10/dist-packages (from streamlit) (24.1)\n",
            "Requirement already satisfied: pandas<3,>=1.4.0 in /usr/local/lib/python3.10/dist-packages (from streamlit) (2.2.2)\n",
            "Requirement already satisfied: protobuf<6,>=3.20 in /usr/local/lib/python3.10/dist-packages (from streamlit) (3.20.3)\n",
            "Requirement already satisfied: pyarrow>=7.0 in /usr/local/lib/python3.10/dist-packages (from streamlit) (16.1.0)\n",
            "Requirement already satisfied: requests<3,>=2.27 in /usr/local/lib/python3.10/dist-packages (from streamlit) (2.32.3)\n",
            "Requirement already satisfied: rich<14,>=10.14.0 in /usr/local/lib/python3.10/dist-packages (from streamlit) (13.9.2)\n",
            "Requirement already satisfied: tenacity<10,>=8.1.0 in /usr/local/lib/python3.10/dist-packages (from streamlit) (9.0.0)\n",
            "Requirement already satisfied: toml<2,>=0.10.1 in /usr/local/lib/python3.10/dist-packages (from streamlit) (0.10.2)\n",
            "Requirement already satisfied: typing-extensions<5,>=4.3.0 in /usr/local/lib/python3.10/dist-packages (from streamlit) (4.12.2)\n",
            "Collecting gitpython!=3.1.19,<4,>=3.0.7 (from streamlit)\n",
            "  Downloading GitPython-3.1.43-py3-none-any.whl.metadata (13 kB)\n",
            "Collecting pydeck<1,>=0.8.0b4 (from streamlit)\n",
            "  Downloading pydeck-0.9.1-py2.py3-none-any.whl.metadata (4.1 kB)\n",
            "Requirement already satisfied: tornado<7,>=6.0.3 in /usr/local/lib/python3.10/dist-packages (from streamlit) (6.3.3)\n",
            "Collecting watchdog<6,>=2.1.5 (from streamlit)\n",
            "  Downloading watchdog-5.0.3-py3-none-manylinux2014_x86_64.whl.metadata (41 kB)\n",
            "\u001b[2K     \u001b[90m━━━━━━━━━━━━━━━━━━━━━━━━━━━━━━━━━━━━━━━━\u001b[0m \u001b[32m41.9/41.9 kB\u001b[0m \u001b[31m1.7 MB/s\u001b[0m eta \u001b[36m0:00:00\u001b[0m\n",
            "\u001b[?25hRequirement already satisfied: tqdm in /usr/local/lib/python3.10/dist-packages (from openai) (4.66.5)\n",
            "Requirement already satisfied: aiohttp in /usr/local/lib/python3.10/dist-packages (from openai) (3.10.10)\n",
            "Requirement already satisfied: entrypoints in /usr/local/lib/python3.10/dist-packages (from altair<6,>=4.0->streamlit) (0.4)\n",
            "Requirement already satisfied: jinja2 in /usr/local/lib/python3.10/dist-packages (from altair<6,>=4.0->streamlit) (3.1.4)\n",
            "Requirement already satisfied: jsonschema>=3.0 in /usr/local/lib/python3.10/dist-packages (from altair<6,>=4.0->streamlit) (4.23.0)\n",
            "Requirement already satisfied: toolz in /usr/local/lib/python3.10/dist-packages (from altair<6,>=4.0->streamlit) (0.12.1)\n",
            "Collecting gitdb<5,>=4.0.1 (from gitpython!=3.1.19,<4,>=3.0.7->streamlit)\n",
            "  Downloading gitdb-4.0.11-py3-none-any.whl.metadata (1.2 kB)\n",
            "Requirement already satisfied: python-dateutil>=2.8.2 in /usr/local/lib/python3.10/dist-packages (from pandas<3,>=1.4.0->streamlit) (2.8.2)\n",
            "Requirement already satisfied: pytz>=2020.1 in /usr/local/lib/python3.10/dist-packages (from pandas<3,>=1.4.0->streamlit) (2024.2)\n",
            "Requirement already satisfied: tzdata>=2022.7 in /usr/local/lib/python3.10/dist-packages (from pandas<3,>=1.4.0->streamlit) (2024.2)\n",
            "Requirement already satisfied: charset-normalizer<4,>=2 in /usr/local/lib/python3.10/dist-packages (from requests<3,>=2.27->streamlit) (3.4.0)\n",
            "Requirement already satisfied: idna<4,>=2.5 in /usr/local/lib/python3.10/dist-packages (from requests<3,>=2.27->streamlit) (3.10)\n",
            "Requirement already satisfied: urllib3<3,>=1.21.1 in /usr/local/lib/python3.10/dist-packages (from requests<3,>=2.27->streamlit) (2.2.3)\n",
            "Requirement already satisfied: certifi>=2017.4.17 in /usr/local/lib/python3.10/dist-packages (from requests<3,>=2.27->streamlit) (2024.8.30)\n",
            "Requirement already satisfied: markdown-it-py>=2.2.0 in /usr/local/lib/python3.10/dist-packages (from rich<14,>=10.14.0->streamlit) (3.0.0)\n",
            "Requirement already satisfied: pygments<3.0.0,>=2.13.0 in /usr/local/lib/python3.10/dist-packages (from rich<14,>=10.14.0->streamlit) (2.18.0)\n",
            "Requirement already satisfied: aiohappyeyeballs>=2.3.0 in /usr/local/lib/python3.10/dist-packages (from aiohttp->openai) (2.4.3)\n",
            "Requirement already satisfied: aiosignal>=1.1.2 in /usr/local/lib/python3.10/dist-packages (from aiohttp->openai) (1.3.1)\n",
            "Requirement already satisfied: attrs>=17.3.0 in /usr/local/lib/python3.10/dist-packages (from aiohttp->openai) (24.2.0)\n",
            "Requirement already satisfied: frozenlist>=1.1.1 in /usr/local/lib/python3.10/dist-packages (from aiohttp->openai) (1.4.1)\n",
            "Requirement already satisfied: multidict<7.0,>=4.5 in /usr/local/lib/python3.10/dist-packages (from aiohttp->openai) (6.1.0)\n",
            "Requirement already satisfied: yarl<2.0,>=1.12.0 in /usr/local/lib/python3.10/dist-packages (from aiohttp->openai) (1.14.0)\n",
            "Requirement already satisfied: async-timeout<5.0,>=4.0 in /usr/local/lib/python3.10/dist-packages (from aiohttp->openai) (4.0.3)\n",
            "Collecting smmap<6,>=3.0.1 (from gitdb<5,>=4.0.1->gitpython!=3.1.19,<4,>=3.0.7->streamlit)\n",
            "  Downloading smmap-5.0.1-py3-none-any.whl.metadata (4.3 kB)\n",
            "Requirement already satisfied: MarkupSafe>=2.0 in /usr/local/lib/python3.10/dist-packages (from jinja2->altair<6,>=4.0->streamlit) (3.0.1)\n",
            "Requirement already satisfied: jsonschema-specifications>=2023.03.6 in /usr/local/lib/python3.10/dist-packages (from jsonschema>=3.0->altair<6,>=4.0->streamlit) (2024.10.1)\n",
            "Requirement already satisfied: referencing>=0.28.4 in /usr/local/lib/python3.10/dist-packages (from jsonschema>=3.0->altair<6,>=4.0->streamlit) (0.35.1)\n",
            "Requirement already satisfied: rpds-py>=0.7.1 in /usr/local/lib/python3.10/dist-packages (from jsonschema>=3.0->altair<6,>=4.0->streamlit) (0.20.0)\n",
            "Requirement already satisfied: mdurl~=0.1 in /usr/local/lib/python3.10/dist-packages (from markdown-it-py>=2.2.0->rich<14,>=10.14.0->streamlit) (0.1.2)\n",
            "Requirement already satisfied: six>=1.5 in /usr/local/lib/python3.10/dist-packages (from python-dateutil>=2.8.2->pandas<3,>=1.4.0->streamlit) (1.16.0)\n",
            "Requirement already satisfied: propcache>=0.2.0 in /usr/local/lib/python3.10/dist-packages (from yarl<2.0,>=1.12.0->aiohttp->openai) (0.2.0)\n",
            "Downloading streamlit-1.39.0-py2.py3-none-any.whl (8.7 MB)\n",
            "\u001b[2K   \u001b[90m━━━━━━━━━━━━━━━━━━━━━━━━━━━━━━━━━━━━━━━━\u001b[0m \u001b[32m8.7/8.7 MB\u001b[0m \u001b[31m41.2 MB/s\u001b[0m eta \u001b[36m0:00:00\u001b[0m\n",
            "\u001b[?25hDownloading GitPython-3.1.43-py3-none-any.whl (207 kB)\n",
            "\u001b[2K   \u001b[90m━━━━━━━━━━━━━━━━━━━━━━━━━━━━━━━━━━━━━━━━\u001b[0m \u001b[32m207.3/207.3 kB\u001b[0m \u001b[31m21.2 MB/s\u001b[0m eta \u001b[36m0:00:00\u001b[0m\n",
            "\u001b[?25hDownloading pydeck-0.9.1-py2.py3-none-any.whl (6.9 MB)\n",
            "\u001b[2K   \u001b[90m━━━━━━━━━━━━━━━━━━━━━━━━━━━━━━━━━━━━━━━━\u001b[0m \u001b[32m6.9/6.9 MB\u001b[0m \u001b[31m119.3 MB/s\u001b[0m eta \u001b[36m0:00:00\u001b[0m\n",
            "\u001b[?25hDownloading watchdog-5.0.3-py3-none-manylinux2014_x86_64.whl (79 kB)\n",
            "\u001b[2K   \u001b[90m━━━━━━━━━━━━━━━━━━━━━━━━━━━━━━━━━━━━━━━━\u001b[0m \u001b[32m79.3/79.3 kB\u001b[0m \u001b[31m8.6 MB/s\u001b[0m eta \u001b[36m0:00:00\u001b[0m\n",
            "\u001b[?25hDownloading gitdb-4.0.11-py3-none-any.whl (62 kB)\n",
            "\u001b[2K   \u001b[90m━━━━━━━━━━━━━━━━━━━━━━━━━━━━━━━━━━━━━━━━\u001b[0m \u001b[32m62.7/62.7 kB\u001b[0m \u001b[31m6.9 MB/s\u001b[0m eta \u001b[36m0:00:00\u001b[0m\n",
            "\u001b[?25hDownloading smmap-5.0.1-py3-none-any.whl (24 kB)\n",
            "Installing collected packages: watchdog, smmap, pydeck, gitdb, gitpython, streamlit\n",
            "Successfully installed gitdb-4.0.11 gitpython-3.1.43 pydeck-0.9.1 smmap-5.0.1 streamlit-1.39.0 watchdog-5.0.3\n"
          ]
        }
      ],
      "source": [
        "!pip install streamlit pillow openai\n",
        "\n",
        "\n"
      ]
    },
    {
      "cell_type": "code",
      "execution_count": null,
      "metadata": {
        "colab": {
          "base_uri": "https://localhost:8080/"
        },
        "id": "_E6D9RPy7JGa",
        "outputId": "34d13157-74af-4d90-dc7b-d0a2f2b0bb9c"
      },
      "outputs": [
        {
          "output_type": "stream",
          "name": "stdout",
          "text": [
            "Requirement already satisfied: streamlit in /usr/local/lib/python3.10/dist-packages (1.39.0)\n",
            "Requirement already satisfied: altair<6,>=4.0 in /usr/local/lib/python3.10/dist-packages (from streamlit) (4.2.2)\n",
            "Requirement already satisfied: blinker<2,>=1.0.0 in /usr/lib/python3/dist-packages (from streamlit) (1.4)\n",
            "Requirement already satisfied: cachetools<6,>=4.0 in /usr/local/lib/python3.10/dist-packages (from streamlit) (5.5.0)\n",
            "Requirement already satisfied: click<9,>=7.0 in /usr/local/lib/python3.10/dist-packages (from streamlit) (8.1.7)\n",
            "Requirement already satisfied: numpy<3,>=1.20 in /usr/local/lib/python3.10/dist-packages (from streamlit) (1.26.4)\n",
            "Requirement already satisfied: packaging<25,>=20 in /usr/local/lib/python3.10/dist-packages (from streamlit) (24.1)\n",
            "Requirement already satisfied: pandas<3,>=1.4.0 in /usr/local/lib/python3.10/dist-packages (from streamlit) (2.2.2)\n",
            "Requirement already satisfied: pillow<11,>=7.1.0 in /usr/local/lib/python3.10/dist-packages (from streamlit) (10.4.0)\n",
            "Requirement already satisfied: protobuf<6,>=3.20 in /usr/local/lib/python3.10/dist-packages (from streamlit) (3.20.3)\n",
            "Requirement already satisfied: pyarrow>=7.0 in /usr/local/lib/python3.10/dist-packages (from streamlit) (16.1.0)\n",
            "Requirement already satisfied: requests<3,>=2.27 in /usr/local/lib/python3.10/dist-packages (from streamlit) (2.32.3)\n",
            "Requirement already satisfied: rich<14,>=10.14.0 in /usr/local/lib/python3.10/dist-packages (from streamlit) (13.9.2)\n",
            "Requirement already satisfied: tenacity<10,>=8.1.0 in /usr/local/lib/python3.10/dist-packages (from streamlit) (9.0.0)\n",
            "Requirement already satisfied: toml<2,>=0.10.1 in /usr/local/lib/python3.10/dist-packages (from streamlit) (0.10.2)\n",
            "Requirement already satisfied: typing-extensions<5,>=4.3.0 in /usr/local/lib/python3.10/dist-packages (from streamlit) (4.12.2)\n",
            "Requirement already satisfied: gitpython!=3.1.19,<4,>=3.0.7 in /usr/local/lib/python3.10/dist-packages (from streamlit) (3.1.43)\n",
            "Requirement already satisfied: pydeck<1,>=0.8.0b4 in /usr/local/lib/python3.10/dist-packages (from streamlit) (0.9.1)\n",
            "Requirement already satisfied: tornado<7,>=6.0.3 in /usr/local/lib/python3.10/dist-packages (from streamlit) (6.3.3)\n",
            "Requirement already satisfied: watchdog<6,>=2.1.5 in /usr/local/lib/python3.10/dist-packages (from streamlit) (5.0.3)\n",
            "Requirement already satisfied: entrypoints in /usr/local/lib/python3.10/dist-packages (from altair<6,>=4.0->streamlit) (0.4)\n",
            "Requirement already satisfied: jinja2 in /usr/local/lib/python3.10/dist-packages (from altair<6,>=4.0->streamlit) (3.1.4)\n",
            "Requirement already satisfied: jsonschema>=3.0 in /usr/local/lib/python3.10/dist-packages (from altair<6,>=4.0->streamlit) (4.23.0)\n",
            "Requirement already satisfied: toolz in /usr/local/lib/python3.10/dist-packages (from altair<6,>=4.0->streamlit) (0.12.1)\n",
            "Requirement already satisfied: gitdb<5,>=4.0.1 in /usr/local/lib/python3.10/dist-packages (from gitpython!=3.1.19,<4,>=3.0.7->streamlit) (4.0.11)\n",
            "Requirement already satisfied: python-dateutil>=2.8.2 in /usr/local/lib/python3.10/dist-packages (from pandas<3,>=1.4.0->streamlit) (2.8.2)\n",
            "Requirement already satisfied: pytz>=2020.1 in /usr/local/lib/python3.10/dist-packages (from pandas<3,>=1.4.0->streamlit) (2024.2)\n",
            "Requirement already satisfied: tzdata>=2022.7 in /usr/local/lib/python3.10/dist-packages (from pandas<3,>=1.4.0->streamlit) (2024.2)\n",
            "Requirement already satisfied: charset-normalizer<4,>=2 in /usr/local/lib/python3.10/dist-packages (from requests<3,>=2.27->streamlit) (3.4.0)\n",
            "Requirement already satisfied: idna<4,>=2.5 in /usr/local/lib/python3.10/dist-packages (from requests<3,>=2.27->streamlit) (3.10)\n",
            "Requirement already satisfied: urllib3<3,>=1.21.1 in /usr/local/lib/python3.10/dist-packages (from requests<3,>=2.27->streamlit) (2.2.3)\n",
            "Requirement already satisfied: certifi>=2017.4.17 in /usr/local/lib/python3.10/dist-packages (from requests<3,>=2.27->streamlit) (2024.8.30)\n",
            "Requirement already satisfied: markdown-it-py>=2.2.0 in /usr/local/lib/python3.10/dist-packages (from rich<14,>=10.14.0->streamlit) (3.0.0)\n",
            "Requirement already satisfied: pygments<3.0.0,>=2.13.0 in /usr/local/lib/python3.10/dist-packages (from rich<14,>=10.14.0->streamlit) (2.18.0)\n",
            "Requirement already satisfied: smmap<6,>=3.0.1 in /usr/local/lib/python3.10/dist-packages (from gitdb<5,>=4.0.1->gitpython!=3.1.19,<4,>=3.0.7->streamlit) (5.0.1)\n",
            "Requirement already satisfied: MarkupSafe>=2.0 in /usr/local/lib/python3.10/dist-packages (from jinja2->altair<6,>=4.0->streamlit) (3.0.1)\n",
            "Requirement already satisfied: attrs>=22.2.0 in /usr/local/lib/python3.10/dist-packages (from jsonschema>=3.0->altair<6,>=4.0->streamlit) (24.2.0)\n",
            "Requirement already satisfied: jsonschema-specifications>=2023.03.6 in /usr/local/lib/python3.10/dist-packages (from jsonschema>=3.0->altair<6,>=4.0->streamlit) (2024.10.1)\n",
            "Requirement already satisfied: referencing>=0.28.4 in /usr/local/lib/python3.10/dist-packages (from jsonschema>=3.0->altair<6,>=4.0->streamlit) (0.35.1)\n",
            "Requirement already satisfied: rpds-py>=0.7.1 in /usr/local/lib/python3.10/dist-packages (from jsonschema>=3.0->altair<6,>=4.0->streamlit) (0.20.0)\n",
            "Requirement already satisfied: mdurl~=0.1 in /usr/local/lib/python3.10/dist-packages (from markdown-it-py>=2.2.0->rich<14,>=10.14.0->streamlit) (0.1.2)\n",
            "Requirement already satisfied: six>=1.5 in /usr/local/lib/python3.10/dist-packages (from python-dateutil>=2.8.2->pandas<3,>=1.4.0->streamlit) (1.16.0)\n",
            "Requirement already satisfied: streamlit in /usr/local/lib/python3.10/dist-packages (1.39.0)\n",
            "Requirement already satisfied: pillow in /usr/local/lib/python3.10/dist-packages (10.4.0)\n",
            "Requirement already satisfied: openai in /usr/local/lib/python3.10/dist-packages (0.28.0)\n",
            "Requirement already satisfied: altair<6,>=4.0 in /usr/local/lib/python3.10/dist-packages (from streamlit) (4.2.2)\n",
            "Requirement already satisfied: blinker<2,>=1.0.0 in /usr/lib/python3/dist-packages (from streamlit) (1.4)\n",
            "Requirement already satisfied: cachetools<6,>=4.0 in /usr/local/lib/python3.10/dist-packages (from streamlit) (5.5.0)\n",
            "Requirement already satisfied: click<9,>=7.0 in /usr/local/lib/python3.10/dist-packages (from streamlit) (8.1.7)\n",
            "Requirement already satisfied: numpy<3,>=1.20 in /usr/local/lib/python3.10/dist-packages (from streamlit) (1.26.4)\n",
            "Requirement already satisfied: packaging<25,>=20 in /usr/local/lib/python3.10/dist-packages (from streamlit) (24.1)\n",
            "Requirement already satisfied: pandas<3,>=1.4.0 in /usr/local/lib/python3.10/dist-packages (from streamlit) (2.2.2)\n",
            "Requirement already satisfied: protobuf<6,>=3.20 in /usr/local/lib/python3.10/dist-packages (from streamlit) (3.20.3)\n",
            "Requirement already satisfied: pyarrow>=7.0 in /usr/local/lib/python3.10/dist-packages (from streamlit) (16.1.0)\n",
            "Requirement already satisfied: requests<3,>=2.27 in /usr/local/lib/python3.10/dist-packages (from streamlit) (2.32.3)\n",
            "Requirement already satisfied: rich<14,>=10.14.0 in /usr/local/lib/python3.10/dist-packages (from streamlit) (13.9.2)\n",
            "Requirement already satisfied: tenacity<10,>=8.1.0 in /usr/local/lib/python3.10/dist-packages (from streamlit) (9.0.0)\n",
            "Requirement already satisfied: toml<2,>=0.10.1 in /usr/local/lib/python3.10/dist-packages (from streamlit) (0.10.2)\n",
            "Requirement already satisfied: typing-extensions<5,>=4.3.0 in /usr/local/lib/python3.10/dist-packages (from streamlit) (4.12.2)\n",
            "Requirement already satisfied: gitpython!=3.1.19,<4,>=3.0.7 in /usr/local/lib/python3.10/dist-packages (from streamlit) (3.1.43)\n",
            "Requirement already satisfied: pydeck<1,>=0.8.0b4 in /usr/local/lib/python3.10/dist-packages (from streamlit) (0.9.1)\n",
            "Requirement already satisfied: tornado<7,>=6.0.3 in /usr/local/lib/python3.10/dist-packages (from streamlit) (6.3.3)\n",
            "Requirement already satisfied: watchdog<6,>=2.1.5 in /usr/local/lib/python3.10/dist-packages (from streamlit) (5.0.3)\n",
            "Requirement already satisfied: tqdm in /usr/local/lib/python3.10/dist-packages (from openai) (4.66.5)\n",
            "Requirement already satisfied: aiohttp in /usr/local/lib/python3.10/dist-packages (from openai) (3.10.10)\n",
            "Requirement already satisfied: entrypoints in /usr/local/lib/python3.10/dist-packages (from altair<6,>=4.0->streamlit) (0.4)\n",
            "Requirement already satisfied: jinja2 in /usr/local/lib/python3.10/dist-packages (from altair<6,>=4.0->streamlit) (3.1.4)\n",
            "Requirement already satisfied: jsonschema>=3.0 in /usr/local/lib/python3.10/dist-packages (from altair<6,>=4.0->streamlit) (4.23.0)\n",
            "Requirement already satisfied: toolz in /usr/local/lib/python3.10/dist-packages (from altair<6,>=4.0->streamlit) (0.12.1)\n",
            "Requirement already satisfied: gitdb<5,>=4.0.1 in /usr/local/lib/python3.10/dist-packages (from gitpython!=3.1.19,<4,>=3.0.7->streamlit) (4.0.11)\n",
            "Requirement already satisfied: python-dateutil>=2.8.2 in /usr/local/lib/python3.10/dist-packages (from pandas<3,>=1.4.0->streamlit) (2.8.2)\n",
            "Requirement already satisfied: pytz>=2020.1 in /usr/local/lib/python3.10/dist-packages (from pandas<3,>=1.4.0->streamlit) (2024.2)\n",
            "Requirement already satisfied: tzdata>=2022.7 in /usr/local/lib/python3.10/dist-packages (from pandas<3,>=1.4.0->streamlit) (2024.2)\n",
            "Requirement already satisfied: charset-normalizer<4,>=2 in /usr/local/lib/python3.10/dist-packages (from requests<3,>=2.27->streamlit) (3.4.0)\n",
            "Requirement already satisfied: idna<4,>=2.5 in /usr/local/lib/python3.10/dist-packages (from requests<3,>=2.27->streamlit) (3.10)\n",
            "Requirement already satisfied: urllib3<3,>=1.21.1 in /usr/local/lib/python3.10/dist-packages (from requests<3,>=2.27->streamlit) (2.2.3)\n",
            "Requirement already satisfied: certifi>=2017.4.17 in /usr/local/lib/python3.10/dist-packages (from requests<3,>=2.27->streamlit) (2024.8.30)\n",
            "Requirement already satisfied: markdown-it-py>=2.2.0 in /usr/local/lib/python3.10/dist-packages (from rich<14,>=10.14.0->streamlit) (3.0.0)\n",
            "Requirement already satisfied: pygments<3.0.0,>=2.13.0 in /usr/local/lib/python3.10/dist-packages (from rich<14,>=10.14.0->streamlit) (2.18.0)\n",
            "Requirement already satisfied: aiohappyeyeballs>=2.3.0 in /usr/local/lib/python3.10/dist-packages (from aiohttp->openai) (2.4.3)\n",
            "Requirement already satisfied: aiosignal>=1.1.2 in /usr/local/lib/python3.10/dist-packages (from aiohttp->openai) (1.3.1)\n",
            "Requirement already satisfied: attrs>=17.3.0 in /usr/local/lib/python3.10/dist-packages (from aiohttp->openai) (24.2.0)\n",
            "Requirement already satisfied: frozenlist>=1.1.1 in /usr/local/lib/python3.10/dist-packages (from aiohttp->openai) (1.4.1)\n",
            "Requirement already satisfied: multidict<7.0,>=4.5 in /usr/local/lib/python3.10/dist-packages (from aiohttp->openai) (6.1.0)\n",
            "Requirement already satisfied: yarl<2.0,>=1.12.0 in /usr/local/lib/python3.10/dist-packages (from aiohttp->openai) (1.14.0)\n",
            "Requirement already satisfied: async-timeout<5.0,>=4.0 in /usr/local/lib/python3.10/dist-packages (from aiohttp->openai) (4.0.3)\n",
            "Requirement already satisfied: smmap<6,>=3.0.1 in /usr/local/lib/python3.10/dist-packages (from gitdb<5,>=4.0.1->gitpython!=3.1.19,<4,>=3.0.7->streamlit) (5.0.1)\n",
            "Requirement already satisfied: MarkupSafe>=2.0 in /usr/local/lib/python3.10/dist-packages (from jinja2->altair<6,>=4.0->streamlit) (3.0.1)\n",
            "Requirement already satisfied: jsonschema-specifications>=2023.03.6 in /usr/local/lib/python3.10/dist-packages (from jsonschema>=3.0->altair<6,>=4.0->streamlit) (2024.10.1)\n",
            "Requirement already satisfied: referencing>=0.28.4 in /usr/local/lib/python3.10/dist-packages (from jsonschema>=3.0->altair<6,>=4.0->streamlit) (0.35.1)\n",
            "Requirement already satisfied: rpds-py>=0.7.1 in /usr/local/lib/python3.10/dist-packages (from jsonschema>=3.0->altair<6,>=4.0->streamlit) (0.20.0)\n",
            "Requirement already satisfied: mdurl~=0.1 in /usr/local/lib/python3.10/dist-packages (from markdown-it-py>=2.2.0->rich<14,>=10.14.0->streamlit) (0.1.2)\n",
            "Requirement already satisfied: six>=1.5 in /usr/local/lib/python3.10/dist-packages (from python-dateutil>=2.8.2->pandas<3,>=1.4.0->streamlit) (1.16.0)\n",
            "Requirement already satisfied: propcache>=0.2.0 in /usr/local/lib/python3.10/dist-packages (from yarl<2.0,>=1.12.0->aiohttp->openai) (0.2.0)\n"
          ]
        }
      ],
      "source": [
        "!pip install --upgrade streamlit\n",
        "!pip install streamlit pillow openai\n"
      ]
    },
    {
      "cell_type": "code",
      "execution_count": null,
      "metadata": {
        "colab": {
          "base_uri": "https://localhost:8080/"
        },
        "id": "feOQbCoi-EEB",
        "outputId": "77bc4ae5-561b-4474-8c6c-bf052f085387"
      },
      "outputs": [
        {
          "output_type": "stream",
          "name": "stdout",
          "text": [
            "Collecting python-dotenv\n",
            "  Downloading python_dotenv-1.0.1-py3-none-any.whl.metadata (23 kB)\n",
            "Downloading python_dotenv-1.0.1-py3-none-any.whl (19 kB)\n",
            "Installing collected packages: python-dotenv\n",
            "Successfully installed python-dotenv-1.0.1\n"
          ]
        }
      ],
      "source": [
        "!pip install python-dotenv\n"
      ]
    },
    {
      "cell_type": "code",
      "execution_count": null,
      "metadata": {
        "id": "IUSav_ia-L_2"
      },
      "outputs": [],
      "source": [
        "from dotenv import load_dotenv\n",
        "import os\n",
        "\n",
        "load_dotenv()  # Load environment variables from .env file\n",
        "openai.api_key = os.getenv(\"sk-qelXokcQhxfYSarqHFho2rWqX3R3GuiX6POK96aeOzT3BlbkFJEOM5Q_y7xjViMb86oiTLtRQ6qwbdSf0fGrl8pgIKIA\")  # Update to use environment variable\n"
      ]
    },
    {
      "cell_type": "code",
      "execution_count": null,
      "metadata": {
        "colab": {
          "base_uri": "https://localhost:8080/"
        },
        "id": "689DavUd-db0",
        "outputId": "ce093b4c-5a92-4a98-adf1-60e78f2295ac"
      },
      "outputs": [
        {
          "output_type": "stream",
          "name": "stdout",
          "text": [
            "None\n"
          ]
        }
      ],
      "source": [
        "print(os.getenv(\"sk-qelXokcQhxfYSarqHFho2rWqX3R3GuiX6POK96aeOzT3BlbkFJEOM5Q_y7xjViMb86oiTLtRQ6qwbdSf0fGrl8pgIKIA\"))\n"
      ]
    },
    {
      "cell_type": "markdown",
      "source": [
        "##UI/UX Development"
      ],
      "metadata": {
        "id": "xg5RdreNIuhn"
      }
    },
    {
      "cell_type": "code",
      "execution_count": null,
      "metadata": {
        "colab": {
          "base_uri": "https://localhost:8080/"
        },
        "id": "gij7d3cm8PAg",
        "outputId": "33249925-f9a4-496d-e730-1e667adefe37"
      },
      "outputs": [
        {
          "output_type": "stream",
          "name": "stdout",
          "text": [
            "Writing app.py\n"
          ]
        }
      ],
      "source": [
        "%%writefile app.py\n",
        "import openai\n",
        "import streamlit as st\n",
        "import os\n",
        "import random\n",
        "\n",
        "# Load OpenAI API key securely using environment variables\n",
        "# openai.api_key = os.getenv(\"YOUR_API_KEY\")  # Update to use environment variable\n",
        "openai.api_key = \"sk-qelXokcQhxfYSarqHFho2rWqX3R3GuiX6POK96aeOzT3BlbkFJEOM5Q_y7xjViMb86oiTLtRQ6qwbdSf0fGrl8pgIKIA\"\n",
        "\n",
        "def generate_career_recommendation(o_level_results, post_secondary_pathway, qualification, qualification_grades, a_level_results, skills, career_goals, interests, country, max_tokens=1000):\n",
        "    if not o_level_results or not post_secondary_pathway or not skills or not career_goals:\n",
        "        return \"❌ Please provide complete information: O-Level results, post-secondary pathway, qualification, skills, and career goals.\"\n",
        "\n",
        "    if post_secondary_pathway == \"Junior College (JC)\" and not a_level_results:\n",
        "        return \"❌ Please provide your A-Level results for the Junior College pathway.\"\n",
        "\n",
        "    prompt = (f\"Based on the following academic results, skills, and interests, suggest suitable career paths, \"\n",
        "              f\"relevant universities or institutions, and required certifications for a Singaporean student:\\n\"\n",
        "              f\"O-Level Results: {o_level_results}\\n\")\n",
        "\n",
        "    if post_secondary_pathway == \"Junior College (JC)\":\n",
        "        prompt += f\"A-Level Results: {a_level_results}\\n\"\n",
        "    else:\n",
        "        prompt += f\"Qualification: {qualification} (Grades: {qualification_grades})\\n\"\n",
        "\n",
        "    prompt += (f\"Post-Secondary Pathway: {post_secondary_pathway}\\n\"\n",
        "               f\"Skills: {skills}\\n\"\n",
        "               f\"Career Goals: {career_goals}\\n\"\n",
        "               f\"Interests: {interests}\\n\"\n",
        "               f\"Preferred Country: {country}\\n\"\n",
        "               f\"Include relevant details such as industries, potential job roles, and certifications to pursue in Singapore.\")\n",
        "\n",
        "    try:\n",
        "        response = openai.ChatCompletion.create(\n",
        "            model=\"gpt-4\",\n",
        "            messages=[\n",
        "                {\"role\": \"system\", \"content\": \"You are a career counselor for Singaporean students.\"},\n",
        "                {\"role\": \"user\", \"content\": prompt}\n",
        "            ],\n",
        "            max_tokens=max_tokens,\n",
        "            temperature=0.7\n",
        "        )\n",
        "        return response.choices[0].message['content'].strip()\n",
        "\n",
        "    except openai.OpenAIError as e:\n",
        "        return f\"⚠️ An OpenAI error occurred: {e}\"\n",
        "    except Exception as e:\n",
        "        return f\"⚠️ An error occurred: {e}\"\n",
        "\n",
        "def add_emojis_to_recommendation(recommendation):\n",
        "    emojis = {\n",
        "        \"university\": \"🏛️ University\",\n",
        "        \"certification\": \"📜 Certification\",\n",
        "        \"industry\": \"🏢 Industry\",\n",
        "        \"job roles\": \"💼 Job Roles\",\n",
        "        \"career path\": \"🚀 Career Path\",\n",
        "        \"skills\": \"🛠️ Skills\",\n",
        "        \"experience\": \"📅 Experience\",\n",
        "        \"internship\": \"💼 Internship\",\n",
        "        \"degree\": \"🎓 Degree\",\n",
        "        \"project\": \"📁 Project\",\n",
        "        \"learning\": \"📘 Learning\",\n",
        "        \"salary\": \"💰 Salary\",\n",
        "        \"technology\": \"💻 Technology\",\n",
        "        \"interview\": \"🤝 Interview\",\n",
        "        \"qualification\": \"🎓 Qualification\",\n",
        "        \"opportunities\": \"🚪 Opportunities\",\n",
        "    }\n",
        "    for word, emoji in emojis.items():\n",
        "        recommendation = recommendation.replace(word, emoji)\n",
        "    return recommendation\n",
        "\n",
        "# Function to generate career-specific resources using GPT\n",
        "def get_helpful_resources(career_goals):\n",
        "    prompt = (f\"Please suggest relevant and helpful online resources, such as online courses, articles, \"\n",
        "          f\"certifications, and platforms, for someone looking to pursue a career in {career_goals}. \"\n",
        "          f\"Include up-to-date websites with direct links, platforms, and certifications that can help them advance in this career. \"\n",
        "          f\"Ensure all website URLs are correct and provide easy access. For example, you can refer to platforms like: \"\n",
        "          f\"\\n- [MySkillsFuture](https://www.myskillsfuture.gov.sg) \"\n",
        "          f\"\\n- [Coursera](https://www.coursera.org) \"\n",
        "          f\"\\n- [edX](https://www.edx.org) \"\n",
        "          f\"Feel free to include any additional, relevant platforms or certifications.\")\n",
        "\n",
        "\n",
        "    try:\n",
        "        response = openai.ChatCompletion.create(\n",
        "            model=\"gpt-4\",\n",
        "            messages=[\n",
        "                {\"role\": \"system\", \"content\": \"You are an expert in education and career guidance.\"},\n",
        "                {\"role\": \"user\", \"content\": prompt}\n",
        "            ],\n",
        "            max_tokens=500,\n",
        "            temperature=0.7\n",
        "        )\n",
        "\n",
        "        # Extract the response from the model\n",
        "        resources = response.choices[0].message['content'].strip().split(\"\\n\")\n",
        "        return resources\n",
        "\n",
        "    except openai.OpenAIError as e:\n",
        "        return [f\"⚠️ An OpenAI error occurred: {e}\"]\n",
        "    except Exception as e:\n",
        "        return [f\"⚠️ An error occurred: {e}\"]\n",
        "\n",
        "def local_css():\n",
        "    st.markdown(\n",
        "        f\"\"\"\n",
        "        <style>\n",
        "        body {{\n",
        "            background-color: #e0f7e9;\n",
        "            color: #333;\n",
        "        }}\n",
        "        .primary {{ color: #333; }}\n",
        "        .recommendation-box {{\n",
        "            background-color: #f9fdfc;\n",
        "            color: #333;\n",
        "            padding: 20px;\n",
        "            border-radius: 10px;\n",
        "            border-left: 5px solid #28a745;\n",
        "            animation: fadeIn 1s ease-in;\n",
        "            font-family: 'Trebuchet MS', sans-serif;\n",
        "        }}\n",
        "        .resources-box {{\n",
        "            background-color: #f0f8ff;\n",
        "            color: #333;\n",
        "            padding: 15px;\n",
        "            border-radius: 10px;\n",
        "            border-left: 5px solid #4169e1;\n",
        "            animation: resourceFadeIn 1.5s ease-in;\n",
        "            font-family: 'Georgia', serif;\n",
        "        }}\n",
        "        .header {{\n",
        "            color: #28a745;\n",
        "            font-size: 48px;\n",
        "            font-weight: bold;\n",
        "            text-align: center;\n",
        "            margin-bottom: 30px;\n",
        "            animation: slideIn 1s ease-in;\n",
        "            font-family: 'Arial', sans-serif;\n",
        "        }}\n",
        "        .subheader {{\n",
        "            color: #28a745;\n",
        "            font-size: 24px;\n",
        "            margin-top: 20px;\n",
        "            margin-bottom: 10px;\n",
        "            font-family: 'Arial', sans-serif;\n",
        "        }}\n",
        "        .stButton>button {{\n",
        "            background-color: #28a745;\n",
        "            color: #fff;\n",
        "            border-radius: 10px;\n",
        "            font-size: 16px;\n",
        "            transition: background-color 0.3s ease;\n",
        "            font-family: 'Verdana', sans-serif;\n",
        "        }}\n",
        "        .stButton>button:hover {{\n",
        "            background-color: #a1dfc5;\n",
        "        }}\n",
        "        input[type=\"text\"] {{\n",
        "            background-color: #f1f9f7;\n",
        "            border: 2px solid #28a745;\n",
        "            border-radius: 5px;\n",
        "            color: #333;\n",
        "            font-size: 16px;\n",
        "            font-weight: bold;\n",
        "        }}\n",
        "        input[type=\"text\"]:focus {{\n",
        "            border-color: #1f7a33;\n",
        "            box-shadow: 0 0 0 3px rgba(40, 167, 69, 0.2);\n",
        "        }}\n",
        "        @keyframes fadeIn {{\n",
        "            from {{ opacity: 0; }}\n",
        "            to {{ opacity: 1; }}\n",
        "        }}\n",
        "        @keyframes slideIn {{\n",
        "            from {{ transform: translateY(-50px); opacity: 0; }}\n",
        "            to {{ transform: translateY(0); opacity: 1; }}\n",
        "        }}\n",
        "        @keyframes resourceFadeIn {{\n",
        "            from {{ opacity: 0; }}\n",
        "            to {{ opacity: 1; }}\n",
        "        }}\n",
        "        .fade-in-text {{\n",
        "            animation: textFadeIn 2s ease-in-out;\n",
        "        }}\n",
        "        </style>\n",
        "        \"\"\",\n",
        "        unsafe_allow_html=True\n",
        "    )\n",
        "\n",
        "local_css()\n",
        "\n",
        "# Application title and header\n",
        "st.markdown('<div class=\"header fade-in-text\">🎓PathFinder.2 by Studentpod 📖</div>', unsafe_allow_html=True)\n",
        "\n",
        "# Input fields for the user\n",
        "o_level_results = st.text_input(\"**📝 O-Level Results** (e.g., Math: A1, English: A2, Science: B3)\", \"\")\n",
        "post_secondary_pathway = st.selectbox(\n",
        "    \"**📚 Post-Secondary Education Pathway**\",\n",
        "    (\"Junior College (JC)\", \"Polytechnic\", \"Institute of Technical Education (ITE)\")\n",
        ")\n",
        "\n",
        "# Conditional fields based on the selected post-secondary pathway\n",
        "a_level_results = None\n",
        "qualification = None\n",
        "qualification_grades = None\n",
        "\n",
        "if post_secondary_pathway == \"Junior College (JC)\":\n",
        "    a_level_results = st.text_input(\"**📝 A-Level Results** (e.g., Math: A, Physics: A, Chemistry: B)\", \"\")\n",
        "elif post_secondary_pathway == \"Polytechnic\":\n",
        "    qualification = st.text_input(\"**🎓 Polytechnic Qualification** (e.g., Diploma in Engineering)\", \"\")\n",
        "    qualification_grades = st.text_input(\"**📈 Polytechnic Grade** (e.g., GPA 3.5/4)\", \"\")\n",
        "elif post_secondary_pathway == \"Institute of Technical Education (ITE)\":\n",
        "    qualification = st.text_input(\"**🎓 ITE Qualification** (e.g., Higher Nitec in Electronics Engineering)\", \"\")\n",
        "    qualification_grades = st.text_input(\"**📈 ITE Grade** (e.g., GPA 3.5/4)\", \"\")\n",
        "\n",
        "skills = st.text_input(\"**🛠️ Skills** (e.g., Programming, Communication, Design)\", \"\")\n",
        "career_goals = st.text_input(\"**🚀 Career Goals** (e.g., Software Engineer, Entrepreneur)\", \"\")\n",
        "interests = st.text_input(\"**🎨 Interests** (e.g., Technology, Business, Arts)\", \"\")\n",
        "country = st.text_input(\"**🌍 Preferred Country to Study/Work** (e.g., Singapore, USA, UK)\", \"\")\n",
        "\n",
        "# Submit button\n",
        "if st.button(\"💡 Get Career Recommendation\"):\n",
        "    recommendation = generate_career_recommendation(\n",
        "        o_level_results, post_secondary_pathway, qualification, qualification_grades,\n",
        "        a_level_results, skills, career_goals, interests, country\n",
        "    )\n",
        "    recommendation_with_emojis = add_emojis_to_recommendation(recommendation)\n",
        "    st.markdown(f'<div class=\"recommendation-box fade-in-text\">{recommendation_with_emojis}</div>', unsafe_allow_html=True)\n",
        "\n",
        "    # Display helpful resources dynamically generated based on career goals\n",
        "    st.markdown('<div class=\"subheader fade-in-text\">📚 Helpful Resources</div>', unsafe_allow_html=True)\n",
        "    helpful_resources = get_helpful_resources(career_goals)\n",
        "    st.markdown('<div class=\"resources-box fade-in-text\">', unsafe_allow_html=True)\n",
        "    for resource in helpful_resources:\n",
        "        st.markdown(f\"- {resource}\")\n",
        "    st.markdown('</div>', unsafe_allow_html=True)\n",
        "\n",
        "# Footer\n",
        "st.markdown(\"<p style='text-align: center;'><strong>Created with 💚 by Studentpod 💼</strong></p>\", unsafe_allow_html=True)\n"
      ]
    },
    {
      "cell_type": "markdown",
      "source": [
        "#Deploy app processing"
      ],
      "metadata": {
        "id": "YdMmQxU9Iha_"
      }
    },
    {
      "cell_type": "code",
      "source": [
        "# Step 1: Install the necessary packages\n",
        "!pip install pyngrok\n",
        "\n",
        "!pip install -r \"/content/drive/MyDrive/student/requirement.txt\""
      ],
      "metadata": {
        "colab": {
          "base_uri": "https://localhost:8080/",
          "height": 1000
        },
        "id": "dOjdCLhn5lqW",
        "outputId": "45b8ba9e-ed5f-4f70-db44-d4ac8d296d34"
      },
      "execution_count": null,
      "outputs": [
        {
          "output_type": "stream",
          "name": "stdout",
          "text": [
            "Collecting pyngrok\n",
            "  Downloading pyngrok-7.2.0-py3-none-any.whl.metadata (7.4 kB)\n",
            "Requirement already satisfied: PyYAML>=5.1 in /usr/local/lib/python3.10/dist-packages (from pyngrok) (6.0.2)\n",
            "Downloading pyngrok-7.2.0-py3-none-any.whl (22 kB)\n",
            "Installing collected packages: pyngrok\n",
            "Successfully installed pyngrok-7.2.0\n",
            "Collecting streamlit==1.23.0 (from -r /content/drive/MyDrive/student/requirement.txt (line 1))\n",
            "  Downloading streamlit-1.23.0-py2.py3-none-any.whl.metadata (7.4 kB)\n",
            "Collecting openai==0.27.0 (from -r /content/drive/MyDrive/student/requirement.txt (line 2))\n",
            "  Downloading openai-0.27.0-py3-none-any.whl.metadata (13 kB)\n",
            "Requirement already satisfied: altair<6,>=4.0 in /usr/local/lib/python3.10/dist-packages (from streamlit==1.23.0->-r /content/drive/MyDrive/student/requirement.txt (line 1)) (4.2.2)\n",
            "Requirement already satisfied: blinker<2,>=1.0.0 in /usr/lib/python3/dist-packages (from streamlit==1.23.0->-r /content/drive/MyDrive/student/requirement.txt (line 1)) (1.4)\n",
            "Requirement already satisfied: cachetools<6,>=4.0 in /usr/local/lib/python3.10/dist-packages (from streamlit==1.23.0->-r /content/drive/MyDrive/student/requirement.txt (line 1)) (5.5.0)\n",
            "Requirement already satisfied: click<9,>=7.0 in /usr/local/lib/python3.10/dist-packages (from streamlit==1.23.0->-r /content/drive/MyDrive/student/requirement.txt (line 1)) (8.1.7)\n",
            "Collecting importlib-metadata<7,>=1.4 (from streamlit==1.23.0->-r /content/drive/MyDrive/student/requirement.txt (line 1))\n",
            "  Downloading importlib_metadata-6.11.0-py3-none-any.whl.metadata (4.9 kB)\n",
            "Requirement already satisfied: numpy<2,>=1 in /usr/local/lib/python3.10/dist-packages (from streamlit==1.23.0->-r /content/drive/MyDrive/student/requirement.txt (line 1)) (1.26.4)\n",
            "Collecting packaging<24,>=14.1 (from streamlit==1.23.0->-r /content/drive/MyDrive/student/requirement.txt (line 1))\n",
            "  Downloading packaging-23.2-py3-none-any.whl.metadata (3.2 kB)\n",
            "Requirement already satisfied: pandas<3,>=0.25 in /usr/local/lib/python3.10/dist-packages (from streamlit==1.23.0->-r /content/drive/MyDrive/student/requirement.txt (line 1)) (2.2.2)\n",
            "Collecting pillow<10,>=6.2.0 (from streamlit==1.23.0->-r /content/drive/MyDrive/student/requirement.txt (line 1))\n",
            "  Downloading Pillow-9.5.0-cp310-cp310-manylinux_2_28_x86_64.whl.metadata (9.5 kB)\n",
            "Requirement already satisfied: protobuf<5,>=3.20 in /usr/local/lib/python3.10/dist-packages (from streamlit==1.23.0->-r /content/drive/MyDrive/student/requirement.txt (line 1)) (3.20.3)\n",
            "Requirement already satisfied: pyarrow>=4.0 in /usr/local/lib/python3.10/dist-packages (from streamlit==1.23.0->-r /content/drive/MyDrive/student/requirement.txt (line 1)) (16.1.0)\n",
            "Collecting pympler<2,>=0.9 (from streamlit==1.23.0->-r /content/drive/MyDrive/student/requirement.txt (line 1))\n",
            "  Downloading Pympler-1.1-py3-none-any.whl.metadata (3.6 kB)\n",
            "Requirement already satisfied: python-dateutil<3,>=2 in /usr/local/lib/python3.10/dist-packages (from streamlit==1.23.0->-r /content/drive/MyDrive/student/requirement.txt (line 1)) (2.8.2)\n",
            "Requirement already satisfied: requests<3,>=2.4 in /usr/local/lib/python3.10/dist-packages (from streamlit==1.23.0->-r /content/drive/MyDrive/student/requirement.txt (line 1)) (2.32.3)\n",
            "Requirement already satisfied: rich<14,>=10.11.0 in /usr/local/lib/python3.10/dist-packages (from streamlit==1.23.0->-r /content/drive/MyDrive/student/requirement.txt (line 1)) (13.9.2)\n",
            "Collecting tenacity<9,>=8.0.0 (from streamlit==1.23.0->-r /content/drive/MyDrive/student/requirement.txt (line 1))\n",
            "  Downloading tenacity-8.5.0-py3-none-any.whl.metadata (1.2 kB)\n",
            "Requirement already satisfied: toml<2 in /usr/local/lib/python3.10/dist-packages (from streamlit==1.23.0->-r /content/drive/MyDrive/student/requirement.txt (line 1)) (0.10.2)\n",
            "Requirement already satisfied: typing-extensions>=3.10.0.0 in /usr/local/lib/python3.10/dist-packages (from streamlit==1.23.0->-r /content/drive/MyDrive/student/requirement.txt (line 1)) (4.12.2)\n",
            "Collecting tzlocal<5,>=1.1 (from streamlit==1.23.0->-r /content/drive/MyDrive/student/requirement.txt (line 1))\n",
            "  Downloading tzlocal-4.3.1-py3-none-any.whl.metadata (14 kB)\n",
            "Collecting validators<1,>=0.2 (from streamlit==1.23.0->-r /content/drive/MyDrive/student/requirement.txt (line 1))\n",
            "  Downloading validators-0.34.0-py3-none-any.whl.metadata (3.8 kB)\n",
            "Requirement already satisfied: gitpython!=3.1.19,<4,>=3 in /usr/local/lib/python3.10/dist-packages (from streamlit==1.23.0->-r /content/drive/MyDrive/student/requirement.txt (line 1)) (3.1.43)\n",
            "Requirement already satisfied: pydeck<1,>=0.1.dev5 in /usr/local/lib/python3.10/dist-packages (from streamlit==1.23.0->-r /content/drive/MyDrive/student/requirement.txt (line 1)) (0.9.1)\n",
            "Requirement already satisfied: tornado<7,>=6.0.3 in /usr/local/lib/python3.10/dist-packages (from streamlit==1.23.0->-r /content/drive/MyDrive/student/requirement.txt (line 1)) (6.3.3)\n",
            "Requirement already satisfied: watchdog in /usr/local/lib/python3.10/dist-packages (from streamlit==1.23.0->-r /content/drive/MyDrive/student/requirement.txt (line 1)) (5.0.3)\n",
            "Requirement already satisfied: tqdm in /usr/local/lib/python3.10/dist-packages (from openai==0.27.0->-r /content/drive/MyDrive/student/requirement.txt (line 2)) (4.66.5)\n",
            "Requirement already satisfied: aiohttp in /usr/local/lib/python3.10/dist-packages (from openai==0.27.0->-r /content/drive/MyDrive/student/requirement.txt (line 2)) (3.10.10)\n",
            "Requirement already satisfied: entrypoints in /usr/local/lib/python3.10/dist-packages (from altair<6,>=4.0->streamlit==1.23.0->-r /content/drive/MyDrive/student/requirement.txt (line 1)) (0.4)\n",
            "Requirement already satisfied: jinja2 in /usr/local/lib/python3.10/dist-packages (from altair<6,>=4.0->streamlit==1.23.0->-r /content/drive/MyDrive/student/requirement.txt (line 1)) (3.1.4)\n",
            "Requirement already satisfied: jsonschema>=3.0 in /usr/local/lib/python3.10/dist-packages (from altair<6,>=4.0->streamlit==1.23.0->-r /content/drive/MyDrive/student/requirement.txt (line 1)) (4.23.0)\n",
            "Requirement already satisfied: toolz in /usr/local/lib/python3.10/dist-packages (from altair<6,>=4.0->streamlit==1.23.0->-r /content/drive/MyDrive/student/requirement.txt (line 1)) (0.12.1)\n",
            "Requirement already satisfied: gitdb<5,>=4.0.1 in /usr/local/lib/python3.10/dist-packages (from gitpython!=3.1.19,<4,>=3->streamlit==1.23.0->-r /content/drive/MyDrive/student/requirement.txt (line 1)) (4.0.11)\n",
            "Requirement already satisfied: zipp>=0.5 in /usr/local/lib/python3.10/dist-packages (from importlib-metadata<7,>=1.4->streamlit==1.23.0->-r /content/drive/MyDrive/student/requirement.txt (line 1)) (3.20.2)\n",
            "Requirement already satisfied: pytz>=2020.1 in /usr/local/lib/python3.10/dist-packages (from pandas<3,>=0.25->streamlit==1.23.0->-r /content/drive/MyDrive/student/requirement.txt (line 1)) (2024.2)\n",
            "Requirement already satisfied: tzdata>=2022.7 in /usr/local/lib/python3.10/dist-packages (from pandas<3,>=0.25->streamlit==1.23.0->-r /content/drive/MyDrive/student/requirement.txt (line 1)) (2024.2)\n",
            "Requirement already satisfied: six>=1.5 in /usr/local/lib/python3.10/dist-packages (from python-dateutil<3,>=2->streamlit==1.23.0->-r /content/drive/MyDrive/student/requirement.txt (line 1)) (1.16.0)\n",
            "Requirement already satisfied: charset-normalizer<4,>=2 in /usr/local/lib/python3.10/dist-packages (from requests<3,>=2.4->streamlit==1.23.0->-r /content/drive/MyDrive/student/requirement.txt (line 1)) (3.4.0)\n",
            "Requirement already satisfied: idna<4,>=2.5 in /usr/local/lib/python3.10/dist-packages (from requests<3,>=2.4->streamlit==1.23.0->-r /content/drive/MyDrive/student/requirement.txt (line 1)) (3.10)\n",
            "Requirement already satisfied: urllib3<3,>=1.21.1 in /usr/local/lib/python3.10/dist-packages (from requests<3,>=2.4->streamlit==1.23.0->-r /content/drive/MyDrive/student/requirement.txt (line 1)) (2.2.3)\n",
            "Requirement already satisfied: certifi>=2017.4.17 in /usr/local/lib/python3.10/dist-packages (from requests<3,>=2.4->streamlit==1.23.0->-r /content/drive/MyDrive/student/requirement.txt (line 1)) (2024.8.30)\n",
            "Requirement already satisfied: markdown-it-py>=2.2.0 in /usr/local/lib/python3.10/dist-packages (from rich<14,>=10.11.0->streamlit==1.23.0->-r /content/drive/MyDrive/student/requirement.txt (line 1)) (3.0.0)\n",
            "Requirement already satisfied: pygments<3.0.0,>=2.13.0 in /usr/local/lib/python3.10/dist-packages (from rich<14,>=10.11.0->streamlit==1.23.0->-r /content/drive/MyDrive/student/requirement.txt (line 1)) (2.18.0)\n",
            "Collecting pytz-deprecation-shim (from tzlocal<5,>=1.1->streamlit==1.23.0->-r /content/drive/MyDrive/student/requirement.txt (line 1))\n",
            "  Downloading pytz_deprecation_shim-0.1.0.post0-py2.py3-none-any.whl.metadata (5.2 kB)\n",
            "Requirement already satisfied: aiohappyeyeballs>=2.3.0 in /usr/local/lib/python3.10/dist-packages (from aiohttp->openai==0.27.0->-r /content/drive/MyDrive/student/requirement.txt (line 2)) (2.4.3)\n",
            "Requirement already satisfied: aiosignal>=1.1.2 in /usr/local/lib/python3.10/dist-packages (from aiohttp->openai==0.27.0->-r /content/drive/MyDrive/student/requirement.txt (line 2)) (1.3.1)\n",
            "Requirement already satisfied: attrs>=17.3.0 in /usr/local/lib/python3.10/dist-packages (from aiohttp->openai==0.27.0->-r /content/drive/MyDrive/student/requirement.txt (line 2)) (24.2.0)\n",
            "Requirement already satisfied: frozenlist>=1.1.1 in /usr/local/lib/python3.10/dist-packages (from aiohttp->openai==0.27.0->-r /content/drive/MyDrive/student/requirement.txt (line 2)) (1.4.1)\n",
            "Requirement already satisfied: multidict<7.0,>=4.5 in /usr/local/lib/python3.10/dist-packages (from aiohttp->openai==0.27.0->-r /content/drive/MyDrive/student/requirement.txt (line 2)) (6.1.0)\n",
            "Requirement already satisfied: yarl<2.0,>=1.12.0 in /usr/local/lib/python3.10/dist-packages (from aiohttp->openai==0.27.0->-r /content/drive/MyDrive/student/requirement.txt (line 2)) (1.14.0)\n",
            "Requirement already satisfied: async-timeout<5.0,>=4.0 in /usr/local/lib/python3.10/dist-packages (from aiohttp->openai==0.27.0->-r /content/drive/MyDrive/student/requirement.txt (line 2)) (4.0.3)\n",
            "Requirement already satisfied: smmap<6,>=3.0.1 in /usr/local/lib/python3.10/dist-packages (from gitdb<5,>=4.0.1->gitpython!=3.1.19,<4,>=3->streamlit==1.23.0->-r /content/drive/MyDrive/student/requirement.txt (line 1)) (5.0.1)\n",
            "Requirement already satisfied: MarkupSafe>=2.0 in /usr/local/lib/python3.10/dist-packages (from jinja2->altair<6,>=4.0->streamlit==1.23.0->-r /content/drive/MyDrive/student/requirement.txt (line 1)) (3.0.1)\n",
            "Requirement already satisfied: jsonschema-specifications>=2023.03.6 in /usr/local/lib/python3.10/dist-packages (from jsonschema>=3.0->altair<6,>=4.0->streamlit==1.23.0->-r /content/drive/MyDrive/student/requirement.txt (line 1)) (2024.10.1)\n",
            "Requirement already satisfied: referencing>=0.28.4 in /usr/local/lib/python3.10/dist-packages (from jsonschema>=3.0->altair<6,>=4.0->streamlit==1.23.0->-r /content/drive/MyDrive/student/requirement.txt (line 1)) (0.35.1)\n",
            "Requirement already satisfied: rpds-py>=0.7.1 in /usr/local/lib/python3.10/dist-packages (from jsonschema>=3.0->altair<6,>=4.0->streamlit==1.23.0->-r /content/drive/MyDrive/student/requirement.txt (line 1)) (0.20.0)\n",
            "Requirement already satisfied: mdurl~=0.1 in /usr/local/lib/python3.10/dist-packages (from markdown-it-py>=2.2.0->rich<14,>=10.11.0->streamlit==1.23.0->-r /content/drive/MyDrive/student/requirement.txt (line 1)) (0.1.2)\n",
            "Requirement already satisfied: propcache>=0.2.0 in /usr/local/lib/python3.10/dist-packages (from yarl<2.0,>=1.12.0->aiohttp->openai==0.27.0->-r /content/drive/MyDrive/student/requirement.txt (line 2)) (0.2.0)\n",
            "Downloading streamlit-1.23.0-py2.py3-none-any.whl (8.9 MB)\n",
            "\u001b[2K   \u001b[90m━━━━━━━━━━━━━━━━━━━━━━━━━━━━━━━━━━━━━━━━\u001b[0m \u001b[32m8.9/8.9 MB\u001b[0m \u001b[31m29.2 MB/s\u001b[0m eta \u001b[36m0:00:00\u001b[0m\n",
            "\u001b[?25hDownloading openai-0.27.0-py3-none-any.whl (70 kB)\n",
            "\u001b[2K   \u001b[90m━━━━━━━━━━━━━━━━━━━━━━━━━━━━━━━━━━━━━━━━\u001b[0m \u001b[32m70.1/70.1 kB\u001b[0m \u001b[31m7.6 MB/s\u001b[0m eta \u001b[36m0:00:00\u001b[0m\n",
            "\u001b[?25hDownloading importlib_metadata-6.11.0-py3-none-any.whl (23 kB)\n",
            "Downloading packaging-23.2-py3-none-any.whl (53 kB)\n",
            "\u001b[2K   \u001b[90m━━━━━━━━━━━━━━━━━━━━━━━━━━━━━━━━━━━━━━━━\u001b[0m \u001b[32m53.0/53.0 kB\u001b[0m \u001b[31m5.5 MB/s\u001b[0m eta \u001b[36m0:00:00\u001b[0m\n",
            "\u001b[?25hDownloading Pillow-9.5.0-cp310-cp310-manylinux_2_28_x86_64.whl (3.4 MB)\n",
            "\u001b[2K   \u001b[90m━━━━━━━━━━━━━━━━━━━━━━━━━━━━━━━━━━━━━━━━\u001b[0m \u001b[32m3.4/3.4 MB\u001b[0m \u001b[31m94.7 MB/s\u001b[0m eta \u001b[36m0:00:00\u001b[0m\n",
            "\u001b[?25hDownloading Pympler-1.1-py3-none-any.whl (165 kB)\n",
            "\u001b[2K   \u001b[90m━━━━━━━━━━━━━━━━━━━━━━━━━━━━━━━━━━━━━━━━\u001b[0m \u001b[32m165.8/165.8 kB\u001b[0m \u001b[31m18.2 MB/s\u001b[0m eta \u001b[36m0:00:00\u001b[0m\n",
            "\u001b[?25hDownloading tenacity-8.5.0-py3-none-any.whl (28 kB)\n",
            "Downloading tzlocal-4.3.1-py3-none-any.whl (20 kB)\n",
            "Downloading validators-0.34.0-py3-none-any.whl (43 kB)\n",
            "\u001b[2K   \u001b[90m━━━━━━━━━━━━━━━━━━━━━━━━━━━━━━━━━━━━━━━━\u001b[0m \u001b[32m43.5/43.5 kB\u001b[0m \u001b[31m4.8 MB/s\u001b[0m eta \u001b[36m0:00:00\u001b[0m\n",
            "\u001b[?25hDownloading pytz_deprecation_shim-0.1.0.post0-py2.py3-none-any.whl (15 kB)\n",
            "Installing collected packages: validators, tenacity, pytz-deprecation-shim, pympler, pillow, packaging, importlib-metadata, tzlocal, openai, streamlit\n",
            "  Attempting uninstall: tenacity\n",
            "    Found existing installation: tenacity 9.0.0\n",
            "    Uninstalling tenacity-9.0.0:\n",
            "      Successfully uninstalled tenacity-9.0.0\n",
            "  Attempting uninstall: pillow\n",
            "    Found existing installation: pillow 10.4.0\n",
            "    Uninstalling pillow-10.4.0:\n",
            "      Successfully uninstalled pillow-10.4.0\n",
            "  Attempting uninstall: packaging\n",
            "    Found existing installation: packaging 24.1\n",
            "    Uninstalling packaging-24.1:\n",
            "      Successfully uninstalled packaging-24.1\n",
            "  Attempting uninstall: importlib-metadata\n",
            "    Found existing installation: importlib_metadata 8.5.0\n",
            "    Uninstalling importlib_metadata-8.5.0:\n",
            "      Successfully uninstalled importlib_metadata-8.5.0\n",
            "  Attempting uninstall: tzlocal\n",
            "    Found existing installation: tzlocal 5.2\n",
            "    Uninstalling tzlocal-5.2:\n",
            "      Successfully uninstalled tzlocal-5.2\n",
            "  Attempting uninstall: openai\n",
            "    Found existing installation: openai 0.28.0\n",
            "    Uninstalling openai-0.28.0:\n",
            "      Successfully uninstalled openai-0.28.0\n",
            "  Attempting uninstall: streamlit\n",
            "    Found existing installation: streamlit 1.39.0\n",
            "    Uninstalling streamlit-1.39.0:\n",
            "      Successfully uninstalled streamlit-1.39.0\n",
            "Successfully installed importlib-metadata-6.11.0 openai-0.27.0 packaging-23.2 pillow-9.5.0 pympler-1.1 pytz-deprecation-shim-0.1.0.post0 streamlit-1.23.0 tenacity-8.5.0 tzlocal-4.3.1 validators-0.34.0\n"
          ]
        },
        {
          "output_type": "display_data",
          "data": {
            "application/vnd.colab-display-data+json": {
              "pip_warning": {
                "packages": [
                  "PIL",
                  "openai"
                ]
              },
              "id": "58b80a0d4a9a4cdab9d532b2f1272cb5"
            }
          },
          "metadata": {}
        }
      ]
    },
    {
      "cell_type": "code",
      "source": [
        "import os\n",
        "from threading import Thread\n",
        "from pyngrok import ngrok"
      ],
      "metadata": {
        "id": "8DtV2Z_a-etw"
      },
      "execution_count": null,
      "outputs": []
    },
    {
      "cell_type": "code",
      "source": [
        "ngrok.set_auth_token('2nAAOF3UMtCdxE0u81LDCkHTOXw_7kd7shhjGjozXtz3QqVdt')"
      ],
      "metadata": {
        "id": "I7rXBrkp-gcR",
        "colab": {
          "base_uri": "https://localhost:8080/"
        },
        "outputId": "8f13dbad-76d1-4010-9466-7725a9f6778b"
      },
      "execution_count": null,
      "outputs": [
        {
          "output_type": "stream",
          "name": "stdout",
          "text": []
        }
      ]
    },
    {
      "cell_type": "code",
      "source": [
        "def run_streamlit():\n",
        "    # Change the port if 8501 is already in use or if you prefer another port\n",
        "    os.system('streamlit run /content/app.py --server.port 8501')"
      ],
      "metadata": {
        "id": "71s8nICzABmK"
      },
      "execution_count": null,
      "outputs": []
    },
    {
      "cell_type": "code",
      "source": [
        "# Start a thread to run the Streamlit app\n",
        "thread = Thread(target=run_streamlit)\n",
        "thread.start()"
      ],
      "metadata": {
        "id": "UfiUSB5NAP0e"
      },
      "execution_count": null,
      "outputs": []
    },
    {
      "cell_type": "code",
      "source": [
        "# Open a tunnel to the streamlit port 8501\n",
        "public_url = ngrok.connect(addr='8501', proto='http', bind_tls=True)\n",
        "print('Your Streamlit app is live at:', public_url)"
      ],
      "metadata": {
        "colab": {
          "base_uri": "https://localhost:8080/"
        },
        "id": "OmASj4zmASoS",
        "outputId": "6f53fa07-539b-4b06-b0b6-1b5413bc6fd7"
      },
      "execution_count": null,
      "outputs": [
        {
          "output_type": "stream",
          "name": "stdout",
          "text": [
            "Your Streamlit app is live at: NgrokTunnel: \"https://5cfd-34-91-78-129.ngrok-free.app\" -> \"http://localhost:8501\"\n"
          ]
        }
      ]
    },
    {
      "cell_type": "code",
      "source": [
        "#ngrok.kill()"
      ],
      "metadata": {
        "id": "4sYXdsUaDqqV"
      },
      "execution_count": null,
      "outputs": []
    },
    {
      "cell_type": "code",
      "execution_count": null,
      "metadata": {
        "colab": {
          "base_uri": "https://localhost:8080/"
        },
        "id": "7XPiVOHRVgG7",
        "outputId": "d6478f25-f031-4710-af83-7985c219e0f3"
      },
      "outputs": [
        {
          "name": "stdout",
          "output_type": "stream",
          "text": [
            "Python 3.10.12\n"
          ]
        }
      ],
      "source": [
        "!python --version # or !python3 --version depending on your system setup"
      ]
    }
  ],
  "metadata": {
    "accelerator": "GPU",
    "colab": {
      "gpuType": "T4",
      "machine_shape": "hm",
      "provenance": [],
      "mount_file_id": "10eDAC42ym8VIc3xZFSMlINpiAPw95kNq",
      "authorship_tag": "ABX9TyNxXZBc9QPkEgM2fQinifLi",
      "include_colab_link": true
    },
    "kernelspec": {
      "display_name": "Python 3",
      "name": "python3"
    },
    "language_info": {
      "name": "python"
    }
  },
  "nbformat": 4,
  "nbformat_minor": 0
}